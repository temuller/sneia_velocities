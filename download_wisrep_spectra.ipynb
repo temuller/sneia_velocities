{
 "cells": [
  {
   "cell_type": "code",
   "execution_count": 10,
   "id": "00c74d0c-02b3-4fdb-947a-89cec3983e00",
   "metadata": {
    "execution": {
     "iopub.execute_input": "2023-05-03T05:08:20.762020Z",
     "iopub.status.busy": "2023-05-03T05:08:20.761873Z",
     "iopub.status.idle": "2023-05-03T05:08:20.764060Z",
     "shell.execute_reply": "2023-05-03T05:08:20.763741Z",
     "shell.execute_reply.started": "2023-05-03T05:08:20.762010Z"
    },
    "tags": []
   },
   "outputs": [],
   "source": [
    "import numpy as np\n",
    "from wiserep_api import download_target_spectra"
   ]
  },
  {
   "cell_type": "code",
   "execution_count": null,
   "id": "2bc170d4-552a-464b-8ce3-e12494080309",
   "metadata": {
    "tags": []
   },
   "outputs": [],
   "source": [
    "sne_list = np.genfromtxt('sneIa_wiserep.txt', dtype=str, delimiter='\\n')\n",
    "\n",
    "for sn in sne_list:\n",
    "    try:\n",
    "        download_target_spectra(sn, file_type='ascii', exclude=['SEDM'])\n",
    "    except Exception as exc:\n",
    "        print(f'{sn}: {exc}')"
   ]
  },
  {
   "cell_type": "code",
   "execution_count": null,
   "id": "742d7f41-8c94-447a-a1e3-5dea0b2cd453",
   "metadata": {},
   "outputs": [],
   "source": []
  }
 ],
 "metadata": {
  "kernelspec": {
   "display_name": "Python 3 (ipykernel)",
   "language": "python",
   "name": "python3"
  },
  "language_info": {
   "codemirror_mode": {
    "name": "ipython",
    "version": 3
   },
   "file_extension": ".py",
   "mimetype": "text/x-python",
   "name": "python",
   "nbconvert_exporter": "python",
   "pygments_lexer": "ipython3",
   "version": "3.11.3"
  }
 },
 "nbformat": 4,
 "nbformat_minor": 5
}

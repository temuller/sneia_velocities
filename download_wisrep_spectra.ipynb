{
 "cells": [
  {
   "cell_type": "code",
   "execution_count": 1,
   "id": "00c74d0c-02b3-4fdb-947a-89cec3983e00",
   "metadata": {
    "execution": {
     "iopub.execute_input": "2023-05-04T07:23:43.129774Z",
     "iopub.status.busy": "2023-05-04T07:23:43.129659Z",
     "iopub.status.idle": "2023-05-04T07:23:43.395562Z",
     "shell.execute_reply": "2023-05-04T07:23:43.395198Z",
     "shell.execute_reply.started": "2023-05-04T07:23:43.129763Z"
    },
    "tags": []
   },
   "outputs": [],
   "source": [
    "import os\n",
    "import numpy as np\n",
    "from wiserep_api import download_target_spectra"
   ]
  },
  {
   "cell_type": "code",
   "execution_count": null,
   "id": "2bc170d4-552a-464b-8ce3-e12494080309",
   "metadata": {
    "tags": []
   },
   "outputs": [],
   "source": [
    "sne_list = np.genfromtxt('SNIa-91T-like_wiserep.txt', dtype=str, delimiter='\\n')\n",
    "\n",
    "for sn in sne_list:\n",
    "    try:\n",
    "        download_target_spectra(sn, file_type='ascii', exclude=['SEDM'])\n",
    "    except Exception as exc:\n",
    "        print(f'{sn}: {exc}')"
   ]
  },
  {
   "cell_type": "code",
   "execution_count": null,
   "id": "cd56bc19-eefb-4d70-ad6d-dd8448be87f7",
   "metadata": {
    "tags": []
   },
   "outputs": [],
   "source": [
    "sne_list = np.genfromtxt('SNIa-91T-like_wiserep.txt', dtype=str, delimiter='\\n')\n",
    "missing_sne = [sn for sn in sne_list if os.path.isdir(os.path.join('spectra', sn)) is False]\n",
    "\n",
    "for sn in missing_sne:\n",
    "    try:\n",
    "        download_target_spectra(sn, file_type='ascii', exclude=['SEDM'])\n",
    "    except Exception as exc:\n",
    "        print(f'{sn}: {exc}')"
   ]
  },
  {
   "cell_type": "code",
   "execution_count": null,
   "id": "6a9abf86-f6d1-4851-9231-c858cf6698c6",
   "metadata": {},
   "outputs": [],
   "source": []
  }
 ],
 "metadata": {
  "kernelspec": {
   "display_name": "Python 3 (ipykernel)",
   "language": "python",
   "name": "python3"
  },
  "language_info": {
   "codemirror_mode": {
    "name": "ipython",
    "version": 3
   },
   "file_extension": ".py",
   "mimetype": "text/x-python",
   "name": "python",
   "nbconvert_exporter": "python",
   "pygments_lexer": "ipython3",
   "version": "3.11.3"
  }
 },
 "nbformat": 4,
 "nbformat_minor": 5
}

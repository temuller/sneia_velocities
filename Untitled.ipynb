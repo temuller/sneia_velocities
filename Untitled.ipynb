{
 "cells": [
  {
   "cell_type": "code",
   "execution_count": 1,
   "id": "7ba17b18-d604-4552-a8da-0f5887293b72",
   "metadata": {
    "execution": {
     "iopub.execute_input": "2023-05-02T02:17:52.397896Z",
     "iopub.status.busy": "2023-05-02T02:17:52.397325Z",
     "iopub.status.idle": "2023-05-02T02:17:52.652549Z",
     "shell.execute_reply": "2023-05-02T02:17:52.651973Z",
     "shell.execute_reply.started": "2023-05-02T02:17:52.397845Z"
    }
   },
   "outputs": [],
   "source": [
    "import numpy as np\n",
    "import pandas as pd"
   ]
  },
  {
   "cell_type": "code",
   "execution_count": 17,
   "id": "7d1e0e37-5819-4e71-bc06-88d2b977c05a",
   "metadata": {
    "execution": {
     "iopub.execute_input": "2023-05-02T02:23:31.981427Z",
     "iopub.status.busy": "2023-05-02T02:23:31.981243Z",
     "iopub.status.idle": "2023-05-02T02:23:32.004511Z",
     "shell.execute_reply": "2023-05-02T02:23:32.004034Z",
     "shell.execute_reply.started": "2023-05-02T02:23:31.981415Z"
    },
    "tags": []
   },
   "outputs": [
    {
     "name": "stdout",
     "output_type": "stream",
     "text": [
      "Initial sample: 5560 SNe\n",
      "Targets with Gr13: 3274 SNe\n"
     ]
    }
   ],
   "source": [
    "sample_df = pd.read_csv('pessto_query_eso.csv')\n",
    "sample_df.dropna(subset=['Object'], inplace=True)\n",
    "\n",
    "print(f'Initial sample: {len(sample_df)} SNe')\n",
    "\n",
    "gr13_df = sample_df[sample_df.ORIGFILE.str.contains('Gr13')]\n",
    "print(f'Targets with Gr13: {len(gr13_df)} SNe')"
   ]
  },
  {
   "cell_type": "code",
   "execution_count": 18,
   "id": "b3dcac7a-5ef1-4164-92e6-220b93c6f2c9",
   "metadata": {
    "execution": {
     "iopub.execute_input": "2023-05-02T02:23:45.635977Z",
     "iopub.status.busy": "2023-05-02T02:23:45.635796Z",
     "iopub.status.idle": "2023-05-02T02:23:45.638842Z",
     "shell.execute_reply": "2023-05-02T02:23:45.638521Z",
     "shell.execute_reply.started": "2023-05-02T02:23:45.635964Z"
    },
    "tags": []
   },
   "outputs": [
    {
     "data": {
      "text/plain": [
       "Index(['ARCFILE', 'Object', 'RA', 'DEC', 'ABMAGLIM', 'Wavelength', 'SNR',\n",
       "       'R (&lambda;/&delta;&lambda;)', 'Product category', 'Telescope',\n",
       "       'Instrument', 'OBSTECH', 'Date Obs', 'Exptime', 'Collection',\n",
       "       'Product version', 'Run/Program ID', 'ORIGFILE', 'REFERENC',\n",
       "       'Publication Date'],\n",
       "      dtype='object')"
      ]
     },
     "execution_count": 18,
     "metadata": {},
     "output_type": "execute_result"
    }
   ],
   "source": [
    "sample_df.columns"
   ]
  },
  {
   "cell_type": "code",
   "execution_count": 20,
   "id": "01324579-8b87-4867-8279-df37475be5a7",
   "metadata": {
    "execution": {
     "iopub.execute_input": "2023-05-02T02:26:39.349576Z",
     "iopub.status.busy": "2023-05-02T02:26:39.349408Z",
     "iopub.status.idle": "2023-05-02T02:26:39.353361Z",
     "shell.execute_reply": "2023-05-02T02:26:39.353061Z",
     "shell.execute_reply.started": "2023-05-02T02:26:39.349565Z"
    },
    "tags": []
   },
   "outputs": [
    {
     "data": {
      "text/plain": [
       "0       SN2017ixi\n",
       "1       SN2017gah\n",
       "2       AT2017dfl\n",
       "3       SN2018iii\n",
       "4       SN2018aad\n",
       "          ...    \n",
       "5555     LSQ13bym\n",
       "5556     LSQ13diw\n",
       "5557     LSQ13bvs\n",
       "5558     LSQ14bdg\n",
       "5559    iPTF13dge\n",
       "Name: Object, Length: 5560, dtype: object"
      ]
     },
     "execution_count": 20,
     "metadata": {},
     "output_type": "execute_result"
    }
   ],
   "source": [
    "sample_df.Object"
   ]
  },
  {
   "cell_type": "code",
   "execution_count": 29,
   "id": "ef98c60e-517a-4b1e-ae7b-000819a13c9a",
   "metadata": {
    "execution": {
     "iopub.execute_input": "2023-05-02T02:49:39.049282Z",
     "iopub.status.busy": "2023-05-02T02:49:39.049099Z",
     "iopub.status.idle": "2023-05-02T02:49:39.393921Z",
     "shell.execute_reply": "2023-05-02T02:49:39.393495Z",
     "shell.execute_reply.started": "2023-05-02T02:49:39.049270Z"
    },
    "tags": []
   },
   "outputs": [],
   "source": [
    "from astropy.io import fits\n",
    "import matplotlib.pyplot as plt"
   ]
  },
  {
   "cell_type": "code",
   "execution_count": 32,
   "id": "93ec477f-4fdc-4a6c-82fe-f9dbfc81b51f",
   "metadata": {
    "execution": {
     "iopub.execute_input": "2023-05-02T02:50:55.350029Z",
     "iopub.status.busy": "2023-05-02T02:50:55.349714Z",
     "iopub.status.idle": "2023-05-02T02:50:55.354539Z",
     "shell.execute_reply": "2023-05-02T02:50:55.354243Z",
     "shell.execute_reply.started": "2023-05-02T02:50:55.350012Z"
    },
    "tags": []
   },
   "outputs": [
    {
     "data": {
      "text/plain": [
       "'SN2017ixi'"
      ]
     },
     "execution_count": 32,
     "metadata": {},
     "output_type": "execute_result"
    }
   ],
   "source": [
    "hdu = fits.open('spectra/ADP.2021-03-23T16:54:28.100.fits')\n",
    "hdu[0].header['OBJECT']"
   ]
  },
  {
   "cell_type": "code",
   "execution_count": 31,
   "id": "a0e053c9-6f6c-4114-92f6-bc977e9f22ef",
   "metadata": {
    "execution": {
     "iopub.execute_input": "2023-05-02T02:49:57.304350Z",
     "iopub.status.busy": "2023-05-02T02:49:57.304099Z",
     "iopub.status.idle": "2023-05-02T02:49:57.376659Z",
     "shell.execute_reply": "2023-05-02T02:49:57.376283Z",
     "shell.execute_reply.started": "2023-05-02T02:49:57.304331Z"
    },
    "tags": []
   },
   "outputs": [
    {
     "data": {
      "text/plain": [
       "<ErrorbarContainer object of 3 artists>"
      ]
     },
     "execution_count": 31,
     "metadata": {},
     "output_type": "execute_result"
    },
    {
     "data": {
      "image/png": "[encoded data removed]",
      "text/plain": [
       "<Figure size 432x288 with 1 Axes>"
      ]
     },
     "metadata": {
      "needs_background": "light"
     },
     "output_type": "display_data"
    }
   ],
   "source": [
    "wave, flux, err = hdu[1].data['WAVE'][0], hdu[1].data['FLUX'][0], hdu[1].data['ERR'][0]\n",
    "\n",
    "plt.errorbar(wave, flux, yerr=0)"
   ]
  },
  {
   "cell_type": "code",
   "execution_count": null,
   "id": "2d77eeab-4ffc-4ae0-a6f3-3b9cacb2357e",
   "metadata": {},
   "outputs": [],
   "source": []
  }
 ],
 "metadata": {
  "kernelspec": {
   "display_name": "Python 3 (ipykernel)",
   "language": "python",
   "name": "python3"
  },
  "language_info": {
   "codemirror_mode": {
    "name": "ipython",
    "version": 3
   },
   "file_extension": ".py",
   "mimetype": "text/x-python",
   "name": "python",
   "nbconvert_exporter": "python",
   "pygments_lexer": "ipython3",
   "version": "3.11.3"
  }
 },
 "nbformat": 4,
 "nbformat_minor": 5
}

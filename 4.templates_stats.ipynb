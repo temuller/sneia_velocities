{
 "cells": [
  {
   "cell_type": "code",
   "execution_count": 1,
   "id": "0d37bf09-db4b-4b83-b7f0-1684ddd565f3",
   "metadata": {
    "execution": {
     "iopub.execute_input": "2023-05-04T13:24:53.065201Z",
     "iopub.status.busy": "2023-05-04T13:24:53.065057Z",
     "iopub.status.idle": "2023-05-04T13:24:53.240922Z",
     "shell.execute_reply": "2023-05-04T13:24:53.240590Z",
     "shell.execute_reply.started": "2023-05-04T13:24:53.065189Z"
    },
    "tags": []
   },
   "outputs": [
    {
     "name": "stdout",
     "output_type": "stream",
     "text": [
      "8659 SNe\n"
     ]
    }
   ],
   "source": [
    "import os\n",
    "import glob\n",
    "import shutil\n",
    "import numpy as np\n",
    "import pandas as pd\n",
    "\n",
    "directories = glob.glob('spectra/*')\n",
    "print(f'{len(directories)} SNe')\n",
    "\n",
    "n_templates = 10\n",
    "max_phase = +5"
   ]
  },
  {
   "cell_type": "code",
   "execution_count": 2,
   "id": "736ee673-94ce-4675-9958-ea61ae545c13",
   "metadata": {
    "execution": {
     "iopub.execute_input": "2023-05-04T13:24:53.635888Z",
     "iopub.status.busy": "2023-05-04T13:24:53.635317Z",
     "iopub.status.idle": "2023-05-04T13:25:00.817589Z",
     "shell.execute_reply": "2023-05-04T13:25:00.817184Z",
     "shell.execute_reply.started": "2023-05-04T13:24:53.635852Z"
    },
    "tags": []
   },
   "outputs": [
    {
     "name": "stdout",
     "output_type": "stream",
     "text": [
      "There are 4626 spectra around peak for 1890 different objects\n"
     ]
    }
   ],
   "source": [
    "targets = []\n",
    "for directory in directories:\n",
    "    sn_name = os.path.basename(directory)\n",
    "    target_files = glob.glob(os.path.join(directory, '*'))\n",
    "    # SNID outputs\n",
    "    snid_files = [file for file in target_files if file.endswith('.output')]\n",
    "    # SNID inputs\n",
    "    spec_files = [file for file in target_files if not file.endswith('.output')]\n",
    "\n",
    "    # iterate over all spectra for this SN\n",
    "    i = 0  # to update the spectra file names\n",
    "    for templ_file in snid_files:\n",
    "        df = pd.read_csv(templ_file, nrows=n_templates)\n",
    "        mean_phase = df.age.mean()\n",
    "\n",
    "        if np.abs(mean_phase) <= max_phase:\n",
    "            # this spectrum is at peak\n",
    "            for spec_file in spec_files:\n",
    "                basename = os.path.splitext(os.path.basename(templ_file))[0]\n",
    "                basename = basename.replace('_snid', '')\n",
    "                if basename in spec_file:\n",
    "                    outfile = os.path.join('peak_spectra', \n",
    "                                           f'{sn_name}_spec{i}_phase{mean_phase:.1f}.txt')\n",
    "                    shutil.copy(spec_file, outfile)\n",
    "                    i += 1\n",
    "                    \n",
    "peak_spectra = glob.glob('peak_spectra/*')\n",
    "targets = []\n",
    "for file in peak_spectra:\n",
    "    target = os.path.basename(file).split('_')[0]\n",
    "    if target not in targets:\n",
    "        targets.append(target)\n",
    "        \n",
    "print(f'There are {len(peak_spectra)} spectra around peak for {len(targets)} different objects')"
   ]
  },
  {
   "cell_type": "code",
   "execution_count": null,
   "id": "5d665255-7f45-4318-892b-a652bd384f9a",
   "metadata": {},
   "outputs": [],
   "source": []
  }
 ],
 "metadata": {
  "kernelspec": {
   "display_name": "Python 3 (ipykernel)",
   "language": "python",
   "name": "python3"
  },
  "language_info": {
   "codemirror_mode": {
    "name": "ipython",
    "version": 3
   },
   "file_extension": ".py",
   "mimetype": "text/x-python",
   "name": "python",
   "nbconvert_exporter": "python",
   "pygments_lexer": "ipython3",
   "version": "3.11.3"
  }
 },
 "nbformat": 4,
 "nbformat_minor": 5
}

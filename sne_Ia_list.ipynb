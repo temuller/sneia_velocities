{
 "cells": [
  {
   "cell_type": "markdown",
   "id": "7e1177b8-3c59-4f97-9e93-84ffaf7b9c4a",
   "metadata": {},
   "source": [
    "# Obtain SNe Ia List from Wiserep"
   ]
  },
  {
   "cell_type": "code",
   "execution_count": 1,
   "id": "b7e7d1ca-9dcf-4983-bd4d-dbc25831ae8e",
   "metadata": {
    "execution": {
     "iopub.execute_input": "2023-05-04T02:58:39.267481Z",
     "iopub.status.busy": "2023-05-04T02:58:39.267107Z",
     "iopub.status.idle": "2023-05-04T02:58:39.273535Z",
     "shell.execute_reply": "2023-05-04T02:58:39.272407Z",
     "shell.execute_reply.started": "2023-05-04T02:58:39.267461Z"
    },
    "tags": []
   },
   "outputs": [
    {
     "name": "stdout",
     "output_type": "stream",
     "text": [
      "{'Other': 0, 'SN': 1, 'SN I': 2, 'SN Ia': 3, 'SN Ib': 4, 'SN Ic': 5, 'SN Ib/c': 6, 'SN Ic-BL': 7, 'SN Ib - Ca-rich': 8, 'SN Ibn': 9, 'SN II': 10, 'SN IIP': 11, 'SN IIL': 12, 'SN IIn': 13, 'SN IIb': 14, 'SN I-faint': 15, 'SN I-rapid': 16, 'SLSN-I': 18, 'SLSN-II': 19, 'SLSN-R': 20, 'Afterglow': 23, 'LBV': 24, 'ILRT': 25, 'Nova': 26, 'CV': 27, 'Varstar': 28, 'AGN': 29, 'Galaxy': 30, 'QSO': 31, 'Std-spec': 50, 'Gap': 60, 'Gap I': 61, 'Gap II': 62, 'SN impostor': 99, 'SN Ia-pec': 100, 'SN Ia-SC': 102, 'SN Ia-91bg-like': 103, 'SN Ia-91T-like': 104, 'SN Ia-02cx-like': 105, 'SN Ia-CSM': 106, 'SN Ib-pec': 107, 'SN Ic-pec': 108, 'SN II-pec': 110, 'SN IIn-pec': 112, 'TDE': 120, 'WR': 200, 'WR-WN': 201, 'WR-WC': 202, 'WR-WO': 203, 'M dwarf': 210}\n"
     ]
    }
   ],
   "source": [
    "from wiserep_api.search import print_spectral_types, download_sn_list\n",
    "\n",
    "print_spectral_types()"
   ]
  },
  {
   "cell_type": "code",
   "execution_count": null,
   "id": "9e8f7531-34c1-4588-8e74-048d386a0683",
   "metadata": {},
   "outputs": [],
   "source": [
    "download_sn_list(\"SN Ia\")"
   ]
  },
  {
   "cell_type": "code",
   "execution_count": 2,
   "id": "9ddcbc5f-c634-4559-809c-92cf967da758",
   "metadata": {
    "execution": {
     "iopub.execute_input": "2023-05-04T02:59:07.828589Z",
     "iopub.status.busy": "2023-05-04T02:59:07.828283Z",
     "iopub.status.idle": "2023-05-04T02:59:19.430449Z",
     "shell.execute_reply": "2023-05-04T02:59:19.429912Z",
     "shell.execute_reply.started": "2023-05-04T02:59:07.828571Z"
    },
    "tags": []
   },
   "outputs": [
    {
     "name": "stdout",
     "output_type": "stream",
     "text": [
      "390 \"SN Ia-91T-like\" objects found!\n",
      "URL used: https://www.wiserep.org/search?&page=8&public=all&type[]=104\n"
     ]
    }
   ],
   "source": [
    "download_sn_list(\"SN Ia-91T-like\")"
   ]
  },
  {
   "cell_type": "markdown",
   "id": "65a57ed7-f45f-48f5-ab39-b8fa2f531cce",
   "metadata": {},
   "source": [
    "## PESSTO SNe"
   ]
  },
  {
   "cell_type": "code",
   "execution_count": 76,
   "id": "bf89bfff-4f2a-441e-abe4-89c429a1b4a9",
   "metadata": {
    "execution": {
     "iopub.execute_input": "2023-05-03T03:18:48.404216Z",
     "iopub.status.busy": "2023-05-03T03:18:48.403666Z",
     "iopub.status.idle": "2023-05-03T03:18:48.419433Z",
     "shell.execute_reply": "2023-05-03T03:18:48.418523Z",
     "shell.execute_reply.started": "2023-05-03T03:18:48.404203Z"
    },
    "tags": []
   },
   "outputs": [
    {
     "name": "stdout",
     "output_type": "stream",
     "text": [
      "['SN Ia' 'SN II' 'SN II' ... 'SN Ia' 'Variable star' 'SN Ia']\n",
      "['SN2013U' 'SN2013hf' 'SN2012hb' ... 'SN2019bzp' 'AT2016gsi' 'SN2018amp']\n"
     ]
    }
   ],
   "source": [
    "from astropy.io import fits\n",
    "\n",
    "hdu = fits.open('pessto/ADP.2021-03-23T16 54 33.538.fits')\n",
    "print(hdu[1].data['TRANSIENT_CLASSIFICATION'])\n",
    "print(hdu[1].data['TRANSIENT_IAU_ID'])"
   ]
  },
  {
   "cell_type": "code",
   "execution_count": 82,
   "id": "29c4c062-06bc-4035-a440-b736af42d96d",
   "metadata": {
    "execution": {
     "iopub.execute_input": "2023-05-03T03:27:07.012664Z",
     "iopub.status.busy": "2023-05-03T03:27:07.012470Z",
     "iopub.status.idle": "2023-05-03T03:27:07.098583Z",
     "shell.execute_reply": "2023-05-03T03:27:07.097997Z",
     "shell.execute_reply.started": "2023-05-03T03:27:07.012652Z"
    },
    "tags": []
   },
   "outputs": [
    {
     "name": "stdout",
     "output_type": "stream",
     "text": [
      "73 SNe not on Wiserep, at least as normal Ia's\n"
     ]
    }
   ],
   "source": [
    "sne_not_on_wiserep = []\n",
    "for sn, classf in zip(hdu[1].data['TRANSIENT_IAU_ID'], hdu[1].data['TRANSIENT_CLASSIFICATION']):\n",
    "    if classf=='SN Ia':\n",
    "        iau_name = sn.replace('SN20', '20')\n",
    "        iau_name = iau_name.replace('AT20', '20')\n",
    "        if iau_name not in sne_list and iau_name!='':\n",
    "            sne_not_on_wiserep.append(iau_name)\n",
    "            \n",
    "print(f\"{len(sne_not_on_wiserep)} SNe not on Wiserep, at least as normal Ia's\")"
   ]
  },
  {
   "cell_type": "code",
   "execution_count": null,
   "id": "b4d5a1ff-c17b-41cc-8def-6d5ff627d84d",
   "metadata": {},
   "outputs": [],
   "source": []
  }
 ],
 "metadata": {
  "kernelspec": {
   "display_name": "Python 3 (ipykernel)",
   "language": "python",
   "name": "python3"
  },
  "language_info": {
   "codemirror_mode": {
    "name": "ipython",
    "version": 3
   },
   "file_extension": ".py",
   "mimetype": "text/x-python",
   "name": "python",
   "nbconvert_exporter": "python",
   "pygments_lexer": "ipython3",
   "version": "3.11.3"
  }
 },
 "nbformat": 4,
 "nbformat_minor": 5
}

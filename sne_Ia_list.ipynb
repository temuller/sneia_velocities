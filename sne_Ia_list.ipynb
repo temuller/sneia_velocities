{
 "cells": [
  {
   "cell_type": "markdown",
   "id": "7e1177b8-3c59-4f97-9e93-84ffaf7b9c4a",
   "metadata": {},
   "source": [
    "# Obtain SNe Ia List from Wiserep"
   ]
  },
  {
   "cell_type": "code",
   "execution_count": 52,
   "id": "00c74d0c-02b3-4fdb-947a-89cec3983e00",
   "metadata": {
    "execution": {
     "iopub.execute_input": "2023-05-03T02:59:09.118543Z",
     "iopub.status.busy": "2023-05-03T02:59:09.118346Z",
     "iopub.status.idle": "2023-05-03T02:59:09.122166Z",
     "shell.execute_reply": "2023-05-03T02:59:09.121459Z",
     "shell.execute_reply.started": "2023-05-03T02:59:09.118531Z"
    },
    "tags": []
   },
   "outputs": [],
   "source": [
    "import os\n",
    "import numpy as np\n",
    "import pandas as pd\n",
    "from wiserep_api.api import get_response\n",
    "\n",
    "url = ('https://www.wiserep.org/search?&page=0&name=&name_like=0&public=all&spectra_count=&'\n",
    "       'ra=&decl=&radius=&coords_unit=arcsec&groupid[]=null&type[]=3&type_family[]=null&'\n",
    "       'redshift_min=&redshift_max=&inserted_period_value=0&inserted_period_units=days&'\n",
    "       'ra_range_min=&ra_range_max=&decl_range_min=&decl_range_max=&reporter=&hostname=&'\n",
    "       'date_start[date]=&date_end[date]=&last_modufied_start[date]=&last_modufied_end[date]=&'\n",
    "       'last_modufied_modifier=&creation_start[date]=&creation_end[date]=&creation_modifier=&'\n",
    "       'num_page=50&format=html&display[redshift]=1&display[host_redshift]=1&display[hostname]=1&'\n",
    "       'display[source_group_name]=1&display[programs_name]=0&display[public]=1&display[bibcode]=0&'\n",
    "       'display[end_pop_period]=0&display[spectra_count]=1&display[photometry_count]=1&display[phases]=1&'\n",
    "       'display[related_files]=1&display[remarks]=0&display[multi_type]=0&display[type_unclear]=0&'\n",
    "       'display[createdby]=1&display[creationdate]=0&display[modifiedby]=0&display[lastmodified]=0'\n",
    "      )\n",
    "\n",
    "# 249 pages in Wiserep with SNe Ia\n",
    "total_pages = 249"
   ]
  },
  {
   "cell_type": "code",
   "execution_count": null,
   "id": "3b409780-71cd-4dd7-b3af-105ba9e6b412",
   "metadata": {
    "tags": []
   },
   "outputs": [],
   "source": [
    "for i in range(247, total_pages):\n",
    "    # change page\n",
    "    page = f'page{i}'\n",
    "    #print(page)\n",
    "    if i>0:\n",
    "        current_page = url.split('page=')[1].split('&')[0]\n",
    "        url = url.replace(f'&page={current_page}', f'&page={i}')\n",
    "\n",
    "    # get page data\n",
    "    response = get_response(url)    \n",
    "    split_text = response.text.split('Click to Object page\">')\n",
    "    \n",
    "    # get names of the SNe\n",
    "    names = []\n",
    "    for st in split_text:\n",
    "        name = st.split('</a')[0]\n",
    "        # alternative name\n",
    "        alt_split = st.split('target=\"_blak\">')\n",
    "        if len(alt_split) < 2:\n",
    "            alt_name = None\n",
    "        else:\n",
    "            alt_name = alt_split[1].split('</a')[0]\n",
    "        \n",
    "        if len(name) > 20:\n",
    "            continue  # this is just text\n",
    "        try:\n",
    "            # this avoids some annoying lines\n",
    "            # and uses the alternative name if\n",
    "            # no IAU name is found\n",
    "            _ = float(name)\n",
    "            if alt_name is not None:\n",
    "                if ',' in alt_name:\n",
    "                    # Some SNe have 2+ alternative names\n",
    "                    alt_name = alt_name.split(',')[0]\n",
    "                names.append(alt_name)\n",
    "        except:\n",
    "            if name.startswith('SN '):\n",
    "                # IAU name\n",
    "                name = name.replace('SN ', '')\n",
    "            names.append(name)\n",
    "            \n",
    "    if len(names)\n",
    "\n",
    "    # save page data\n",
    "    outfile = os.path.join('wiserep', page+'.txt')\n",
    "    np.savetxt(outfile, np.array(names).T, fmt='%s')"
   ]
  },
  {
   "cell_type": "code",
   "execution_count": 75,
   "id": "7f799a71-330b-477a-a91f-cc480de9c470",
   "metadata": {
    "execution": {
     "iopub.execute_input": "2023-05-03T03:08:17.984878Z",
     "iopub.status.busy": "2023-05-03T03:08:17.984659Z",
     "iopub.status.idle": "2023-05-03T03:08:18.042146Z",
     "shell.execute_reply": "2023-05-03T03:08:18.041545Z",
     "shell.execute_reply.started": "2023-05-03T03:08:17.984864Z"
    },
    "tags": []
   },
   "outputs": [],
   "source": [
    "file = os.path.join('wiserep', 'page0.txt')\n",
    "\n",
    "sne_list = []\n",
    "for i in range(0, total_pages):\n",
    "    file = os.path.join('wiserep', f'page{i}.txt')\n",
    "    #sne_page = np.loadtxt(file, dtype=str)\n",
    "    sne_page = np.genfromtxt(file, dtype=str, delimiter='\\n')\n",
    "    sne_list = sne_list + list(sne_page)\n",
    "    \n",
    "np.savetxt('sneIa_wiserep.txt', np.array(sne_list).T, fmt='%s')"
   ]
  },
  {
   "cell_type": "code",
   "execution_count": 63,
   "id": "34602c42-0a47-4b67-a8cb-795d52e28a70",
   "metadata": {
    "execution": {
     "iopub.execute_input": "2023-05-03T03:02:27.895059Z",
     "iopub.status.busy": "2023-05-03T03:02:27.894858Z",
     "iopub.status.idle": "2023-05-03T03:02:27.899199Z",
     "shell.execute_reply": "2023-05-03T03:02:27.898551Z",
     "shell.execute_reply.started": "2023-05-03T03:02:27.895048Z"
    },
    "tags": []
   },
   "outputs": [
    {
     "data": {
      "text/plain": [
       "True"
      ]
     },
     "execution_count": 63,
     "metadata": {},
     "output_type": "execute_result"
    }
   ],
   "source": [
    "len(sne_list) == 12406  # Total number of SNe Ia"
   ]
  },
  {
   "cell_type": "markdown",
   "id": "65a57ed7-f45f-48f5-ab39-b8fa2f531cce",
   "metadata": {},
   "source": [
    "## PESSTO SNe"
   ]
  },
  {
   "cell_type": "code",
   "execution_count": 76,
   "id": "bf89bfff-4f2a-441e-abe4-89c429a1b4a9",
   "metadata": {
    "execution": {
     "iopub.execute_input": "2023-05-03T03:18:48.404216Z",
     "iopub.status.busy": "2023-05-03T03:18:48.403666Z",
     "iopub.status.idle": "2023-05-03T03:18:48.419433Z",
     "shell.execute_reply": "2023-05-03T03:18:48.418523Z",
     "shell.execute_reply.started": "2023-05-03T03:18:48.404203Z"
    },
    "tags": []
   },
   "outputs": [
    {
     "name": "stdout",
     "output_type": "stream",
     "text": [
      "['SN Ia' 'SN II' 'SN II' ... 'SN Ia' 'Variable star' 'SN Ia']\n",
      "['SN2013U' 'SN2013hf' 'SN2012hb' ... 'SN2019bzp' 'AT2016gsi' 'SN2018amp']\n"
     ]
    }
   ],
   "source": [
    "from astropy.io import fits\n",
    "\n",
    "hdu = fits.open('pessto/ADP.2021-03-23T16 54 33.538.fits')\n",
    "print(hdu[1].data['TRANSIENT_CLASSIFICATION'])\n",
    "print(hdu[1].data['TRANSIENT_IAU_ID'])"
   ]
  },
  {
   "cell_type": "code",
   "execution_count": 82,
   "id": "29c4c062-06bc-4035-a440-b736af42d96d",
   "metadata": {
    "execution": {
     "iopub.execute_input": "2023-05-03T03:27:07.012664Z",
     "iopub.status.busy": "2023-05-03T03:27:07.012470Z",
     "iopub.status.idle": "2023-05-03T03:27:07.098583Z",
     "shell.execute_reply": "2023-05-03T03:27:07.097997Z",
     "shell.execute_reply.started": "2023-05-03T03:27:07.012652Z"
    },
    "tags": []
   },
   "outputs": [
    {
     "name": "stdout",
     "output_type": "stream",
     "text": [
      "73 SNe not on Wiserep, at least as normal Ia's\n"
     ]
    }
   ],
   "source": [
    "sne_not_on_wiserep = []\n",
    "for sn, classf in zip(hdu[1].data['TRANSIENT_IAU_ID'], hdu[1].data['TRANSIENT_CLASSIFICATION']):\n",
    "    if classf=='SN Ia':\n",
    "        iau_name = sn.replace('SN20', '20')\n",
    "        iau_name = iau_name.replace('AT20', '20')\n",
    "        if iau_name not in sne_list and iau_name!='':\n",
    "            sne_not_on_wiserep.append(iau_name)\n",
    "            \n",
    "print(f\"{len(sne_not_on_wiserep)} SNe not on Wiserep, at least as normal Ia's\")"
   ]
  },
  {
   "cell_type": "code",
   "execution_count": 83,
   "id": "91fa2553-32da-47e0-8953-45ead0250e34",
   "metadata": {
    "execution": {
     "iopub.execute_input": "2023-05-03T03:27:08.451669Z",
     "iopub.status.busy": "2023-05-03T03:27:08.451474Z",
     "iopub.status.idle": "2023-05-03T03:27:08.455861Z",
     "shell.execute_reply": "2023-05-03T03:27:08.455380Z",
     "shell.execute_reply.started": "2023-05-03T03:27:08.451655Z"
    },
    "tags": []
   },
   "outputs": [
    {
     "data": {
      "text/plain": [
       "['2013U',\n",
       " '2014eg',\n",
       " '2015H',\n",
       " '2017cyx',\n",
       " '2016ado',\n",
       " '2016aix',\n",
       " '2016ajm',\n",
       " '2016ai',\n",
       " '2012ff',\n",
       " '2013gr',\n",
       " '2013bc',\n",
       " '2013bh',\n",
       " '2012fx',\n",
       " '2016dgj',\n",
       " '2016dkf',\n",
       " '2016gdu',\n",
       " '2016gkd',\n",
       " '2016hmp',\n",
       " '2016hnk',\n",
       " '2016iyv',\n",
       " '2017awz',\n",
       " '2017eby',\n",
       " '2017eef',\n",
       " '2017fzw',\n",
       " '2017gbb',\n",
       " '2017ifu',\n",
       " '2017ggl',\n",
       " '2017hnq',\n",
       " '2017hyn',\n",
       " '2016iks',\n",
       " '2016eia',\n",
       " '2017jfw',\n",
       " '2017jgf',\n",
       " '2017pp',\n",
       " '2017X',\n",
       " '2016iil',\n",
       " '2017bzo',\n",
       " '2016hhd',\n",
       " '2016hpp',\n",
       " '2016ije',\n",
       " '2018apo',\n",
       " '2018cni',\n",
       " '2018akm',\n",
       " '2018ame',\n",
       " '2018are',\n",
       " '2018atb',\n",
       " '2018awi',\n",
       " '2018bdg',\n",
       " '2018bdm',\n",
       " '2018bie',\n",
       " '2018epa',\n",
       " '2018fca',\n",
       " '2018feq',\n",
       " '2018ffi',\n",
       " '2018fzz',\n",
       " '2018ghu',\n",
       " '2018hcq',\n",
       " '2018hjw',\n",
       " '2018hkw',\n",
       " '2018jao',\n",
       " '2018jhf',\n",
       " '2018hrk',\n",
       " '2019aos',\n",
       " '2019bky',\n",
       " '2019bus',\n",
       " '2019cp',\n",
       " '2019gf',\n",
       " '2019so',\n",
       " '2018jag',\n",
       " '2019akg',\n",
       " '2019be',\n",
       " '2019aya',\n",
       " '2018amp']"
      ]
     },
     "execution_count": 83,
     "metadata": {},
     "output_type": "execute_result"
    }
   ],
   "source": [
    "sne_not_on_wiserep"
   ]
  },
  {
   "cell_type": "code",
   "execution_count": null,
   "id": "b4d5a1ff-c17b-41cc-8def-6d5ff627d84d",
   "metadata": {},
   "outputs": [],
   "source": []
  }
 ],
 "metadata": {
  "kernelspec": {
   "display_name": "Python 3 (ipykernel)",
   "language": "python",
   "name": "python3"
  },
  "language_info": {
   "codemirror_mode": {
    "name": "ipython",
    "version": 3
   },
   "file_extension": ".py",
   "mimetype": "text/x-python",
   "name": "python",
   "nbconvert_exporter": "python",
   "pygments_lexer": "ipython3",
   "version": "3.11.3"
  }
 },
 "nbformat": 4,
 "nbformat_minor": 5
}

{
 "cells": [
  {
   "cell_type": "code",
   "execution_count": null,
   "id": "29b91832-e817-4972-8f9c-bc30751004a3",
   "metadata": {
    "tags": []
   },
   "outputs": [],
   "source": [
    "import os\n",
    "import json\n",
    "import glob\n",
    "import numpy as np\n",
    "import pandas as pd\n",
    "from astroquery.ipac.ned import Ned\n",
    "from wiserep_api.properties import get_target_property"
   ]
  },
  {
   "cell_type": "code",
   "execution_count": 21,
   "id": "ce061b1f-428b-4120-805e-88ee6ea57e20",
   "metadata": {
    "execution": {
     "iopub.execute_input": "2023-05-04T13:17:02.652861Z",
     "iopub.status.busy": "2023-05-04T13:17:02.652295Z",
     "iopub.status.idle": "2023-05-04T13:17:02.659071Z",
     "shell.execute_reply": "2023-05-04T13:17:02.658554Z",
     "shell.execute_reply.started": "2023-05-04T13:17:02.652838Z"
    },
    "tags": []
   },
   "outputs": [],
   "source": [
    "def load_z_dict():\n",
    "    \"\"\"Loads the dictionary with the redshift values.\n",
    "    \"\"\"\n",
    "    redshift_file = 'redshifts.json'\n",
    "    if os.path.isfile(redshift_file) is True:\n",
    "        with open(redshift_file, 'r') as fp:\n",
    "            z_dict = json.load(fp)\n",
    "    else:\n",
    "        z_dict = {'name':[], 'z':[], 'source':[], 'host_name':[]}\n",
    "        \n",
    "    return z_dict\n",
    "\n",
    "def save_z_dict(z_dict):\n",
    "    \"\"\"Saves the dictionary with the redshift values. \n",
    "    \"\"\"\n",
    "    with open('redshifts.json', 'w') as outfile:\n",
    "        json.dump(z_dict, outfile)\n",
    "        \n",
    "def get_redshift(target, overwrite=False):\n",
    "    \"\"\"Obtains the redshift for the given target.\n",
    "    \"\"\"\n",
    "    z_dict = load_z_dict()\n",
    "    if target in z_dict['name'] and overwrite is False:\n",
    "        # quit\n",
    "        return None\n",
    "    \n",
    "    host_name = get_target_property(target, 'host')\n",
    "    if host_name!='':\n",
    "        try:\n",
    "            z_table = Ned.get_table(host_name, table='redshifts')\n",
    "            z = z_table['Published Redshift'].value[0]\n",
    "            source = 'host'\n",
    "        except Exception as exc:\n",
    "            print(f'{target} ({host_name}): {exc}')\n",
    "            # quit\n",
    "            return None\n",
    "    else:\n",
    "        z = np.nan\n",
    "        source = ''\n",
    "\n",
    "    if target not in z_dict['name']:\n",
    "        z_dict['name'].append(target)\n",
    "        z_dict['z'].append(z)\n",
    "        z_dict['source'].append(source)\n",
    "        z_dict['host_name'].append(host_name)\n",
    "\n",
    "    elif target in z_dict['name'] and overwrite is True:\n",
    "        target_id = z_dict['name'].index(target)\n",
    "\n",
    "        z_dict['z'][target_id] = z\n",
    "        z_dict['source'][target_id] = source\n",
    "        z_dict['host_name'][target_id] = host_name\n",
    "        \n",
    "    save_z_dict(z_dict)"
   ]
  },
  {
   "cell_type": "code",
   "execution_count": 22,
   "id": "b5414903-0171-47b1-b598-5dae25d32222",
   "metadata": {
    "execution": {
     "iopub.execute_input": "2023-05-04T13:17:03.499427Z",
     "iopub.status.busy": "2023-05-04T13:17:03.499131Z",
     "iopub.status.idle": "2023-05-04T13:17:03.528979Z",
     "shell.execute_reply": "2023-05-04T13:17:03.528697Z",
     "shell.execute_reply.started": "2023-05-04T13:17:03.499404Z"
    },
    "tags": []
   },
   "outputs": [
    {
     "data": {
      "text/plain": [
       "1890"
      ]
     },
     "execution_count": 22,
     "metadata": {},
     "output_type": "execute_result"
    }
   ],
   "source": [
    "peak_spectra = glob.glob('peak_spectra/*')\n",
    "targets = []\n",
    "for file in peak_spectra:\n",
    "    target = os.path.basename(file).split('_')[0]\n",
    "    if target not in targets:\n",
    "        targets.append(target)\n",
    "        \n",
    "len(targets)"
   ]
  },
  {
   "cell_type": "code",
   "execution_count": null,
   "id": "22b3315a-7da3-44ea-bf3b-0867a37bc2a5",
   "metadata": {
    "execution": {
     "iopub.execute_input": "2023-05-04T13:17:04.191975Z",
     "iopub.status.busy": "2023-05-04T13:17:04.191639Z"
    },
    "tags": []
   },
   "outputs": [
    {
     "name": "stdout",
     "output_type": "stream",
     "text": [
      "2004as (Anon.): The remote service returned the following error message.\n",
      "ERROR: The object name that you have submitted is not currently recognized by the NED name interpreter.\n",
      "2006bt (Anon.): The remote service returned the following error message.\n",
      "ERROR: The object name that you have submitted is not currently recognized by the NED name interpreter.\n",
      "2003ek (Anon.): The remote service returned the following error message.\n",
      "ERROR: The object name that you have submitted is not currently recognized by the NED name interpreter.\n",
      "2008bc (A093831-6358): The remote service returned the following error message.\n",
      "ERROR: The object name that you have submitted is not currently recognized by the NED name interpreter.\n",
      "2008bf (NGC 4055): ('Connection aborted.', RemoteDisconnected('Remote end closed connection without response'))\n",
      "2007qe (Anon.): The remote service returned the following error message.\n",
      "ERROR: The object name that you have submitted is not currently recognized by the NED name interpreter.\n",
      "2007ud (A023013-0915): The remote service returned the following error message.\n",
      "ERROR: The object name that you have submitted is not currently recognized by the NED name interpreter.\n"
     ]
    }
   ],
   "source": [
    "for target in targets:\n",
    "    get_redshift(target)"
   ]
  },
  {
   "cell_type": "code",
   "execution_count": null,
   "id": "5025ffde-85d9-4da7-9e4d-cd66ef47a347",
   "metadata": {},
   "outputs": [],
   "source": [
    "z_dict = load_z_dict()\n",
    "z_df = pd.DataFrame(z_dict)\n",
    "z_df.to_csv('redshifts.csv', index=False)"
   ]
  }
 ],
 "metadata": {
  "kernelspec": {
   "display_name": "Python 3 (ipykernel)",
   "language": "python",
   "name": "python3"
  },
  "language_info": {
   "codemirror_mode": {
    "name": "ipython",
    "version": 3
   },
   "file_extension": ".py",
   "mimetype": "text/x-python",
   "name": "python",
   "nbconvert_exporter": "python",
   "pygments_lexer": "ipython3",
   "version": "3.11.3"
  }
 },
 "nbformat": 4,
 "nbformat_minor": 5
}

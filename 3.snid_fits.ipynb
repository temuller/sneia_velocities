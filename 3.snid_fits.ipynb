{
 "cells": [
  {
   "cell_type": "markdown",
   "id": "19bfd6fb-ade9-457b-80b5-63220ca3cda6",
   "metadata": {},
   "source": [
    "# Running SNID\n",
    "\n",
    "For parameters information, check https://people.lam.fr/blondin.stephane/software/snid/howto.html"
   ]
  },
  {
   "cell_type": "markdown",
   "id": "0810b751-1fcc-4680-bc76-3670cc72ce75",
   "metadata": {},
   "source": [
    "Copy spectra files from hidra to you local computer, assuming that `spectra/` is in the current directory:\n",
    "\n",
    "`!rsync -avrz -e 'ssh -p 4000' --ignore-existing muller@localhost:/home/hidra3/muller/ztf_host/spectra .` "
   ]
  },
  {
   "cell_type": "code",
   "execution_count": 2,
   "id": "dc4572b9-7eef-4cf8-a1a8-8b5111a5f633",
   "metadata": {
    "execution": {
     "iopub.execute_input": "2023-05-04T08:13:09.363667Z",
     "iopub.status.busy": "2023-05-04T08:13:09.363388Z",
     "iopub.status.idle": "2023-05-04T08:13:09.610140Z",
     "shell.execute_reply": "2023-05-04T08:13:09.609762Z",
     "shell.execute_reply.started": "2023-05-04T08:13:09.363651Z"
    },
    "tags": []
   },
   "outputs": [],
   "source": [
    "import os\n",
    "import numpy as np\n",
    "from wiserep_api import snid"
   ]
  },
  {
   "cell_type": "code",
   "execution_count": null,
   "id": "e7f2c1a4-4eb4-4c8b-9750-53fca0ec3d9a",
   "metadata": {
    "scrolled": true,
    "tags": []
   },
   "outputs": [],
   "source": [
    "sne_list = np.genfromtxt('SNIa_wiserep.txt', dtype=str, delimiter='\\n')\n",
    "snid_commmand = 'snid inter=0 plot=0 aband=0 usetype=Ia-norm'\n",
    "\n",
    "for sn in sne_list:\n",
    "    directory = os.path.join('spectra', sn)\n",
    "    snid.run_snid(directory, command=snid_commmand, skip_fits=True)"
   ]
  },
  {
   "cell_type": "code",
   "execution_count": null,
   "id": "6f3f4b63-67ff-4709-9929-7ae79e84544e",
   "metadata": {
    "scrolled": true,
    "tags": []
   },
   "outputs": [],
   "source": [
    "sne_list = np.genfromtxt('SNIa-91T-like_wiserep.txt', dtype=str, delimiter='\\n')\n",
    "snid_commmand = 'snid inter=0 plot=0 aband=0 usetype=Ia-91T'\n",
    "\n",
    "for sn in sne_list:\n",
    "    directory = os.path.join('spectra', sn)\n",
    "    snid.run_snid(directory, command=snid_commmand, skip_fits=True)"
   ]
  },
  {
   "cell_type": "code",
   "execution_count": null,
   "id": "8878b7fa-6321-422d-8994-e216a1f5a616",
   "metadata": {},
   "outputs": [],
   "source": []
  }
 ],
 "metadata": {
  "kernelspec": {
   "display_name": "Python 3 (ipykernel)",
   "language": "python",
   "name": "python3"
  },
  "language_info": {
   "codemirror_mode": {
    "name": "ipython",
    "version": 3
   },
   "file_extension": ".py",
   "mimetype": "text/x-python",
   "name": "python",
   "nbconvert_exporter": "python",
   "pygments_lexer": "ipython3",
   "version": "3.11.3"
  }
 },
 "nbformat": 4,
 "nbformat_minor": 5
}
